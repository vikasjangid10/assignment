{
 "cells": [
  {
   "cell_type": "code",
   "execution_count": 8,
   "id": "c20db69b-843f-4170-b662-e48327aaac67",
   "metadata": {},
   "outputs": [
    {
     "name": "stdout",
     "output_type": "stream",
     "text": [
      "    A \n",
      "  A B C \n",
      "A B C D E \n"
     ]
    }
   ],
   "source": [
    "for i in range(1,4):\n",
    "    x=65\n",
    "    for j in range(i,3):\n",
    "        print(\" \", end= \" \")\n",
    "\n",
    "    for k in range(1,i*2):\n",
    "        print(chr(x), end = \" \")\n",
    "        x+=1\n",
    "        \n",
    "    print(\"\")"
   ]
  },
  {
   "cell_type": "code",
   "execution_count": 9,
   "id": "1a144b07-4faa-42de-a7fb-6a05e8d26216",
   "metadata": {},
   "outputs": [
    {
     "name": "stdout",
     "output_type": "stream",
     "text": [
      "* * * * * \n",
      " * * * * \n",
      "  * * * \n",
      "   * * \n",
      "    * \n"
     ]
    }
   ],
   "source": [
    "for i in range(0,5):\n",
    "    for j in range(0,i):\n",
    "        print(\" \", end = \"\")\n",
    "\n",
    "    for k in range(i,5):\n",
    "         print(\"*\", end = \" \")\n",
    "\n",
    "    print(\"\")"
   ]
  },
  {
   "cell_type": "code",
   "execution_count": 19,
   "id": "1d3e77cc-6175-4479-833b-6aeeb1141c26",
   "metadata": {},
   "outputs": [
    {
     "name": "stdout",
     "output_type": "stream",
     "text": [
      "     * \n",
      "    * * \n",
      "   * * * \n",
      "  * * * * \n",
      " * * * * * \n"
     ]
    }
   ],
   "source": [
    "for i in range(0,5):\n",
    "    for j in range(i,5):\n",
    "        print(\" \", end = \"\")\n",
    "\n",
    "    for k in range(0,i+1):\n",
    "          print(\"*\", end = \" \")\n",
    "\n",
    "    print(\"\")"
   ]
  },
  {
   "cell_type": "code",
   "execution_count": 1,
   "id": "7fbb691c-163e-453a-85f7-61f391a88e4f",
   "metadata": {},
   "outputs": [
    {
     "name": "stdout",
     "output_type": "stream",
     "text": [
      "  A \n",
      " B C \n",
      "D E F \n"
     ]
    }
   ],
   "source": [
    "x = 65\n",
    "for i in range(1, 4):\n",
    "    for j in range(3, i, -1):\n",
    "        print(\" \", end=\"\")\n",
    "    \n",
    "    for k in range(0, i):\n",
    "        print(chr(x), end=\" \")\n",
    "        x += 1\n",
    "    \n",
    "    print(\"\")\n"
   ]
  },
  {
   "cell_type": "code",
   "execution_count": 6,
   "id": "013d7c14-3dee-4d4d-8b12-203287ff91e7",
   "metadata": {},
   "outputs": [
    {
     "name": "stdout",
     "output_type": "stream",
     "text": [
      "    10 \n",
      "  11 11 \n",
      "12 12 12 \n"
     ]
    }
   ],
   "source": [
    "x=10\n",
    "for i in range(1,4):\n",
    "    for j in range(i,3):\n",
    "        print(\" \", end = \" \")\n",
    "    for k in range(1,i+1):\n",
    "        print(x, end = \" \")\n",
    "    x+=1\n",
    "\n",
    "    print(\"\")\n"
   ]
  },
  {
   "cell_type": "code",
   "execution_count": null,
   "id": "ac26271a-9e5a-438b-90ef-273a134dc699",
   "metadata": {},
   "outputs": [],
   "source": []
  }
 ],
 "metadata": {
  "kernelspec": {
   "display_name": "Python 3 (ipykernel)",
   "language": "python",
   "name": "python3"
  },
  "language_info": {
   "codemirror_mode": {
    "name": "ipython",
    "version": 3
   },
   "file_extension": ".py",
   "mimetype": "text/x-python",
   "name": "python",
   "nbconvert_exporter": "python",
   "pygments_lexer": "ipython3",
   "version": "3.10.11"
  }
 },
 "nbformat": 4,
 "nbformat_minor": 5
}
