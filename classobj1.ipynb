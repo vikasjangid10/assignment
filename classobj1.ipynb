{
 "cells": [
  {
   "cell_type": "code",
   "execution_count": 1,
   "id": "654ba100-46ea-423c-9844-7f9b4afc0c69",
   "metadata": {},
   "outputs": [
    {
     "name": "stdout",
     "output_type": "stream",
     "text": [
      "original [10, 20, 30] 2623808738176\n",
      "in function [10, 20, 30] 2623808738176\n",
      "after change [10, 20, 30, 60] 2623808738176\n",
      "function call original [10, 20, 30, 60] 2623808738176\n"
     ]
    }
   ],
   "source": [
    "def func(mylist):\n",
    "\n",
    "    print(\"in function\", mylist, id(mylist))\n",
    "    mylist.append(60)\n",
    "    print(\"after change\", mylist, id(mylist))\n",
    "    \n",
    "\n",
    "\n",
    "\n",
    "list1=[10,20,30]\n",
    "print(\"original\", list1, id(list1))\n",
    "func(list1)\n",
    "print(\"function call original\", list1, id(list1))"
   ]
  },
  {
   "cell_type": "code",
   "execution_count": 7,
   "id": "5583be79-009d-4da0-a081-70fe90c301a1",
   "metadata": {},
   "outputs": [
    {
     "name": "stdout",
     "output_type": "stream",
     "text": [
      "hello vikas\n",
      "exception handeld\n"
     ]
    }
   ],
   "source": [
    "try:\n",
    "    print(\"hello vikas\")\n",
    "    x=10\n",
    "    x/y\n",
    "    print(\"hey\")\n",
    "\n",
    "except NameError:\n",
    "    print(\"exception handeld\")"
   ]
  },
  {
   "cell_type": "code",
   "execution_count": 12,
   "id": "ca0d8cec-1cc4-4340-a724-38cb0b474c08",
   "metadata": {},
   "outputs": [
    {
     "name": "stdout",
     "output_type": "stream",
     "text": [
      "hello guys\n",
      "exception hendeld division by zero\n"
     ]
    }
   ],
   "source": [
    "try:\n",
    "    print(\"hello guys\")\n",
    "    x=65\n",
    "    x/0\n",
    "\n",
    "except(NameError,ZeroDivisionError) as e:\n",
    "    print(\"exception hendeld\", e)"
   ]
  },
  {
   "cell_type": "code",
   "execution_count": 15,
   "id": "7091b735-f19a-4caf-a3e3-579cc47f6f53",
   "metadata": {},
   "outputs": [
    {
     "name": "stdout",
     "output_type": "stream",
     "text": [
      "hey vikas\n",
      "hey virat\n",
      "hey krishna\n"
     ]
    }
   ],
   "source": [
    "with open(\"file.txt\",\"r\") as fileobj :\n",
    "    x= fileobj.readlines()\n",
    "    for i in x:\n",
    "        print(i.strip())"
   ]
  },
  {
   "cell_type": "code",
   "execution_count": 18,
   "id": "2fab2b7a-962f-463b-b1b4-e5b0758ae36a",
   "metadata": {},
   "outputs": [
    {
     "name": "stdout",
     "output_type": "stream",
     "text": [
      "hey 20 vikas\n",
      "hey 89 virat\n",
      "hey 32 krishna\n"
     ]
    }
   ],
   "source": [
    "import csv\n",
    "f=open(\"file.txt\", \"r\")\n",
    "csv_f = csv.reader(f)\n",
    "for row in csv_f:\n",
    "    print(row[0], row[2], row[1])"
   ]
  },
  {
   "cell_type": "code",
   "execution_count": 20,
   "id": "356ce1bb-1349-4577-acbd-4cbb6a417595",
   "metadata": {},
   "outputs": [
    {
     "name": "stdout",
     "output_type": "stream",
     "text": [
      "constructor bulaya <__main__.house object at 0x00000262E7920520>\n",
      "H1 <__main__.house object at 0x00000262E7920520>\n"
     ]
    }
   ],
   "source": [
    "class house:\n",
    "    def __init__(self):\n",
    "        print(\"constructor bulaya\", self)\n",
    "\n",
    "h1=house()\n",
    "print(\"H1\", h1)"
   ]
  },
  {
   "cell_type": "code",
   "execution_count": 21,
   "id": "e34808fa-9f57-4ff7-b348-9cb4b5f0cf2d",
   "metadata": {},
   "outputs": [
    {
     "name": "stdout",
     "output_type": "stream",
     "text": [
      "constructer bulaya yellow\n"
     ]
    }
   ],
   "source": [
    "class house:\n",
    "    def __init__(self,x):\n",
    "        print(\"constructer bulaya\", x)\n",
    "\n",
    "h1=house(\"yellow\")"
   ]
  },
  {
   "cell_type": "code",
   "execution_count": 29,
   "id": "b2db13b4-30cc-450b-9d98-4906797caffe",
   "metadata": {},
   "outputs": [
    {
     "name": "stdout",
     "output_type": "stream",
     "text": [
      "10 vikas v77765765@gmail.com\n"
     ]
    }
   ],
   "source": [
    "class house:\n",
    "    def __init__(self,x,y,z):\n",
    "        self.eid=x\n",
    "        self.ename=y\n",
    "        self.email=z\n",
    "\n",
    "h1=house(\"10\", \"vikas\", \"v77765765@gmail.com\")\n",
    "print(h1.eid,h1.ename,h1.email)"
   ]
  }
 ],
 "metadata": {
  "kernelspec": {
   "display_name": "Python 3 (ipykernel)",
   "language": "python",
   "name": "python3"
  },
  "language_info": {
   "codemirror_mode": {
    "name": "ipython",
    "version": 3
   },
   "file_extension": ".py",
   "mimetype": "text/x-python",
   "name": "python",
   "nbconvert_exporter": "python",
   "pygments_lexer": "ipython3",
   "version": "3.10.11"
  }
 },
 "nbformat": 4,
 "nbformat_minor": 5
}
