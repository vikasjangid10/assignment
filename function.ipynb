{
 "cells": [
  {
   "cell_type": "code",
   "execution_count": 2,
   "id": "c43a234c-271f-4421-a4fe-9e81fca45317",
   "metadata": {},
   "outputs": [
    {
     "name": "stdin",
     "output_type": "stream",
     "text": [
      "enter the number 8\n"
     ]
    },
    {
     "name": "stdout",
     "output_type": "stream",
     "text": [
      "true\n"
     ]
    }
   ],
   "source": [
    "def evenodd(num):\n",
    "    if(num%2==0):\n",
    "        print(\"true\")\n",
    "    else:\n",
    "        print(\"false\")\n",
    "\n",
    "num= int(input(\"enter the number\"))\n",
    "evenodd(num)"
   ]
  },
  {
   "cell_type": "code",
   "execution_count": 4,
   "id": "f1e5a0a1-1b6b-4394-aa33-e0d02d1c78d7",
   "metadata": {},
   "outputs": [
    {
     "name": "stdin",
     "output_type": "stream",
     "text": [
      "enter first number 9\n",
      "enter secind number 6\n"
     ]
    },
    {
     "name": "stdout",
     "output_type": "stream",
     "text": [
      "hello\n"
     ]
    }
   ],
   "source": [
    "def check(a,b):\n",
    "    if(a%6==0 and b%6==0):\n",
    "        print(\"hey\")\n",
    "    else:\n",
    "        print(\"hello\")\n",
    "\n",
    "\n",
    "a=int(input(\"enter first number\"))\n",
    "b=int(input(\"enter secind number\"))\n",
    "check(a,b)"
   ]
  },
  {
   "cell_type": "code",
   "execution_count": 11,
   "id": "5b77adab-9676-4d6c-95d5-809ecbdb6c53",
   "metadata": {},
   "outputs": [
    {
     "name": "stdin",
     "output_type": "stream",
     "text": [
      "enter the rows 9\n"
     ]
    },
    {
     "name": "stdout",
     "output_type": "stream",
     "text": [
      "* * * * * * * * \n",
      "* * * * * * * \n",
      "* * * * * * \n",
      "* * * * * \n",
      "* * * * \n",
      "* * * \n",
      "* * \n",
      "* \n"
     ]
    }
   ],
   "source": [
    "def star(rows):\n",
    "    for i in range(1,rows):\n",
    "        for j in range(i,rows):\n",
    "            print(\"*\", end=\" \")\n",
    "        print(\"\")\n",
    "\n",
    "\n",
    "rows=int(input(\"enter the rows\"))\n",
    "star(rows)"
   ]
  },
  {
   "cell_type": "code",
   "execution_count": null,
   "id": "f1d4b37f-afe3-42d6-b8d7-c1373993047f",
   "metadata": {},
   "outputs": [],
   "source": []
  }
 ],
 "metadata": {
  "kernelspec": {
   "display_name": "Python 3 (ipykernel)",
   "language": "python",
   "name": "python3"
  },
  "language_info": {
   "codemirror_mode": {
    "name": "ipython",
    "version": 3
   },
   "file_extension": ".py",
   "mimetype": "text/x-python",
   "name": "python",
   "nbconvert_exporter": "python",
   "pygments_lexer": "ipython3",
   "version": "3.10.11"
  }
 },
 "nbformat": 4,
 "nbformat_minor": 5
}
